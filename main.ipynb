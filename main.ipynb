{
 "cells": [
  {
   "cell_type": "code",
   "execution_count": 1,
   "metadata": {},
   "outputs": [],
   "source": [
    "# Importar librerías a usar\n",
    "import pandas as pd"
   ]
  },
  {
   "cell_type": "code",
   "execution_count": 2,
   "metadata": {},
   "outputs": [
    {
     "name": "stdout",
     "output_type": "stream",
     "text": [
      "Importando data...\n",
      "Importación terminada\n"
     ]
    }
   ],
   "source": [
    "# Importar data\n",
    "print(\"Importando data...\")\n",
    "tweets_df = pd.read_json('farmers-protest-tweets-2021-03-5.json', lines=True)\n",
    "print(\"Importación terminada\")"
   ]
  },
  {
   "cell_type": "code",
   "execution_count": 3,
   "metadata": {},
   "outputs": [],
   "source": [
    "# Función: Buscar top 10 tweets más retweeteados\n",
    "def find_most_retweeted(df):\n",
    "  most_retweeted = df.sort_values('retweetCount', ascending=False).head(10)\n",
    "  return most_retweeted\n",
    "  "
   ]
  },
  {
   "cell_type": "code",
   "execution_count": null,
   "metadata": {},
   "outputs": [],
   "source": [
    "# Ejemplo de uso de la función find_most_retweeted\n",
    "most_retweeted = find_most_retweeted(tweets_df)\n",
    "print(most_retweeted)"
   ]
  },
  {
   "cell_type": "code",
   "execution_count": 5,
   "metadata": {},
   "outputs": [],
   "source": [
    "# Función: Los top 10 usuarios en función a la cantidad de tweets que emitieron.\n",
    "def find_top_users(df):\n",
    "  top_users = df['users'].mode()\n",
    "  return top_users.head(10)"
   ]
  },
  {
   "cell_type": "code",
   "execution_count": null,
   "metadata": {},
   "outputs": [],
   "source": [
    "# Ejemplo de uso de la función find_top_users\n",
    "top_users = find_top_users(tweets_df)\n",
    "print(top_users)"
   ]
  },
  {
   "cell_type": "code",
   "execution_count": 16,
   "metadata": {},
   "outputs": [],
   "source": [
    "# Función: Los top 10 días donde hay más tweets.\n",
    "def find_top_days(df):\n",
    "  df[\"date\"] = pd.to_datetime(df[\"date\"])\n",
    "  df[\"date\"] = df[\"date\"].dt.date\n",
    "  top_days = df[\"date\"].mode()\n",
    "  return top_days.head(10)"
   ]
  },
  {
   "cell_type": "code",
   "execution_count": null,
   "metadata": {},
   "outputs": [],
   "source": [
    "# Ejemplo de uso de la función find_top_days\n",
    "top_days = find_top_days(tweets_df)\n",
    "print(top_days)"
   ]
  }
 ],
 "metadata": {
  "interpreter": {
   "hash": "aee8b7b246df8f9039afb4144a1f6fd8d2ca17a180786b69acc140d282b71a49"
  },
  "kernelspec": {
   "display_name": "Python 3.9.10 64-bit",
   "language": "python",
   "name": "python3"
  },
  "language_info": {
   "codemirror_mode": {
    "name": "ipython",
    "version": 3
   },
   "file_extension": ".py",
   "mimetype": "text/x-python",
   "name": "python",
   "nbconvert_exporter": "python",
   "pygments_lexer": "ipython3",
   "version": "3.9.10"
  },
  "orig_nbformat": 4
 },
 "nbformat": 4,
 "nbformat_minor": 2
}
