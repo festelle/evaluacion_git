{
 "cells": [
  {
   "cell_type": "code",
   "execution_count": 1,
   "metadata": {},
   "outputs": [],
   "source": [
    "# Importar librerías a usar\n",
    "import pandas as pd"
   ]
  },
  {
   "cell_type": "code",
   "execution_count": 2,
   "metadata": {},
   "outputs": [
    {
     "name": "stdout",
     "output_type": "stream",
     "text": [
      "Importando data...\n",
      "Importación terminada\n"
     ]
    }
   ],
   "source": [
    "# Importar data\n",
    "print(\"Importando data...\")\n",
    "tweets_df = pd.read_json('farmers-protest-tweets-2021-03-5.json', lines=True)\n",
    "print(\"Importación terminada\")"
   ]
  },
  {
   "cell_type": "code",
   "execution_count": 3,
   "metadata": {},
   "outputs": [],
   "source": [
    "# Función: Buscar top 10 tweets más retweeteados\n",
    "def find_most_retweeted(df):\n",
    "  most_retweeted = df.sort_values('retweetCount', ascending=False).head(10)\n",
    "  return most_retweeted\n",
    "  "
   ]
  },
  {
   "cell_type": "code",
   "execution_count": null,
   "metadata": {},
   "outputs": [],
   "source": [
    "# Encontrar tweets más retweeteados a partir de la función\n",
    "most_retweeted = find_most_retweeted(tweets_df)\n",
    "print(most_retweeted)"
   ]
  }
 ],
 "metadata": {
  "interpreter": {
   "hash": "aee8b7b246df8f9039afb4144a1f6fd8d2ca17a180786b69acc140d282b71a49"
  },
  "kernelspec": {
   "display_name": "Python 3.9.10 64-bit",
   "language": "python",
   "name": "python3"
  },
  "language_info": {
   "codemirror_mode": {
    "name": "ipython",
    "version": 3
   },
   "file_extension": ".py",
   "mimetype": "text/x-python",
   "name": "python",
   "nbconvert_exporter": "python",
   "pygments_lexer": "ipython3",
   "version": "3.9.10"
  },
  "orig_nbformat": 4
 },
 "nbformat": 4,
 "nbformat_minor": 2
}
