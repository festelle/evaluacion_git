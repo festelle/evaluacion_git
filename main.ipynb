{
 "cells": [
  {
   "cell_type": "code",
   "execution_count": 20,
   "metadata": {},
   "outputs": [],
   "source": [
    "# Importar librerías a usar\n",
    "import pandas as pd"
   ]
  },
  {
   "cell_type": "code",
   "execution_count": 21,
   "metadata": {},
   "outputs": [
    {
     "name": "stdout",
     "output_type": "stream",
     "text": [
      "Importando data...\n",
      "Importación terminada\n"
     ]
    }
   ],
   "source": [
    "# Importar data\n",
    "print(\"Importando data...\")\n",
    "tweets_df = pd.read_json('farmers-protest-tweets-2021-03-5.json', lines=True)\n",
    "print(\"Importación terminada\")"
   ]
  },
  {
   "cell_type": "code",
   "execution_count": 45,
   "metadata": {},
   "outputs": [],
   "source": [
    "# Para facilitar la revisión, se usarán solo las primeras 1000 filas, eliminar esta celda para revisar archivo json completo\n",
    "tweets_df = tweets_df.head(1000)"
   ]
  },
  {
   "cell_type": "code",
   "execution_count": 46,
   "metadata": {},
   "outputs": [],
   "source": [
    "# Función: Buscar top 10 tweets más retweeteados\n",
    "def find_most_retweeted(df):\n",
    "  most_retweeted = df.sort_values('retweetCount', ascending=False).head(10)\n",
    "  return most_retweeted\n",
    "  "
   ]
  },
  {
   "cell_type": "code",
   "execution_count": 47,
   "metadata": {},
   "outputs": [
    {
     "name": "stdout",
     "output_type": "stream",
     "text": [
      "                                                   url  \\\n",
      "372  https://twitter.com/NavJammu/status/1376714448...   \n",
      "464  https://twitter.com/NavJammu/status/1376712476...   \n",
      "526  https://twitter.com/NavJammu/status/1376709851...   \n",
      "443  https://twitter.com/Tractor2twitr/status/13767...   \n",
      "516  https://twitter.com/NavJammu/status/1376710933...   \n",
      "509  https://twitter.com/NavJammu/status/1376711462...   \n",
      "274  https://twitter.com/NavJammu/status/1376719988...   \n",
      "352  https://twitter.com/NavJammu/status/1376714905...   \n",
      "378  https://twitter.com/NavJammu/status/1376714339...   \n",
      "519  https://twitter.com/NavJammu/status/1376710682...   \n",
      "\n",
      "                         date  \\\n",
      "372 2021-03-30 01:54:37+00:00   \n",
      "464 2021-03-30 01:46:47+00:00   \n",
      "526 2021-03-30 01:36:21+00:00   \n",
      "443 2021-03-30 01:49:00+00:00   \n",
      "516 2021-03-30 01:40:39+00:00   \n",
      "509 2021-03-30 01:42:45+00:00   \n",
      "274 2021-03-30 02:16:38+00:00   \n",
      "352 2021-03-30 01:56:26+00:00   \n",
      "378 2021-03-30 01:54:11+00:00   \n",
      "519 2021-03-30 01:39:39+00:00   \n",
      "\n",
      "                                               content  \\\n",
      "372  Did you know farmers in India continue to live...   \n",
      "464  Let’s stand with our elders &amp; show the wor...   \n",
      "526  Greetings everyone! 🙏🏼\\n\\nFarmers have been pe...   \n",
      "443  Media &amp; Govt maligned farmers with all sor...   \n",
      "516  Just like migrant workers didn’t choose to sta...   \n",
      "509  Who will voluntarily sit on roads if their liv...   \n",
      "274  While farmers have planted seeds of love, bjp ...   \n",
      "352  Instead of listening to what the farmers want,...   \n",
      "378  I really don’t understand what the bjp govt wa...   \n",
      "519  Farmers deserve respect, not hate! \\n\\n#StopHa...   \n",
      "\n",
      "                                       renderedContent                   id  \\\n",
      "372  Did you know farmers in India continue to live...  1376714448409223179   \n",
      "464  Let’s stand with our elders &amp; show the wor...  1376712476528537602   \n",
      "526  Greetings everyone! 🙏🏼\\n\\nFarmers have been pe...  1376709851531804673   \n",
      "443  Media &amp; Govt maligned farmers with all sor...  1376713034727620615   \n",
      "516  Just like migrant workers didn’t choose to sta...  1376710933070770177   \n",
      "509  Who will voluntarily sit on roads if their liv...  1376711462660403201   \n",
      "274  While farmers have planted seeds of love, bjp ...  1376719988669603842   \n",
      "352  Instead of listening to what the farmers want,...  1376714905001205765   \n",
      "378  I really don’t understand what the bjp govt wa...  1376714339789369345   \n",
      "519  Farmers deserve respect, not hate! \\n\\n#StopHa...  1376710682305916931   \n",
      "\n",
      "                                                  user outlinks tcooutlinks  \\\n",
      "372  {'username': 'NavJammu', 'displayname': 'Navne...       []          []   \n",
      "464  {'username': 'NavJammu', 'displayname': 'Navne...       []          []   \n",
      "526  {'username': 'NavJammu', 'displayname': 'Navne...       []          []   \n",
      "443  {'username': 'Tractor2twitr', 'displayname': '...       []          []   \n",
      "516  {'username': 'NavJammu', 'displayname': 'Navne...       []          []   \n",
      "509  {'username': 'NavJammu', 'displayname': 'Navne...       []          []   \n",
      "274  {'username': 'NavJammu', 'displayname': 'Navne...       []          []   \n",
      "352  {'username': 'NavJammu', 'displayname': 'Navne...       []          []   \n",
      "378  {'username': 'NavJammu', 'displayname': 'Navne...       []          []   \n",
      "519  {'username': 'NavJammu', 'displayname': 'Navne...       []          []   \n",
      "\n",
      "     replyCount  retweetCount  ...  quoteCount       conversationId  lang  \\\n",
      "372           0           206  ...          13  1376714448409223179    en   \n",
      "464           0           160  ...          13  1376712476528537602    en   \n",
      "526           0           153  ...          17  1376709851531804673    en   \n",
      "443           2           143  ...          14  1376713034727620615    en   \n",
      "516           0           141  ...          12  1376710933070770177    en   \n",
      "509           0            92  ...           9  1376711462660403201    en   \n",
      "274           0            86  ...           5  1376719988669603842    en   \n",
      "352           0            86  ...           5  1376714905001205765    en   \n",
      "378           0            83  ...           7  1376714339789369345    en   \n",
      "519           0            80  ...           6  1376710682305916931    en   \n",
      "\n",
      "                                                source  \\\n",
      "372  <a href=\"http://twitter.com/download/iphone\" r...   \n",
      "464  <a href=\"http://twitter.com/download/iphone\" r...   \n",
      "526  <a href=\"http://twitter.com/download/iphone\" r...   \n",
      "443  <a href=\"https://about.twitter.com/products/tw...   \n",
      "516  <a href=\"http://twitter.com/download/iphone\" r...   \n",
      "509  <a href=\"http://twitter.com/download/iphone\" r...   \n",
      "274  <a href=\"http://twitter.com/download/iphone\" r...   \n",
      "352  <a href=\"http://twitter.com/download/iphone\" r...   \n",
      "378  <a href=\"http://twitter.com/download/iphone\" r...   \n",
      "519  <a href=\"http://twitter.com/download/iphone\" r...   \n",
      "\n",
      "                                        sourceUrl         sourceLabel  \\\n",
      "372            http://twitter.com/download/iphone  Twitter for iPhone   \n",
      "464            http://twitter.com/download/iphone  Twitter for iPhone   \n",
      "526            http://twitter.com/download/iphone  Twitter for iPhone   \n",
      "443  https://about.twitter.com/products/tweetdeck           TweetDeck   \n",
      "516            http://twitter.com/download/iphone  Twitter for iPhone   \n",
      "509            http://twitter.com/download/iphone  Twitter for iPhone   \n",
      "274            http://twitter.com/download/iphone  Twitter for iPhone   \n",
      "352            http://twitter.com/download/iphone  Twitter for iPhone   \n",
      "378            http://twitter.com/download/iphone  Twitter for iPhone   \n",
      "519            http://twitter.com/download/iphone  Twitter for iPhone   \n",
      "\n",
      "                                                 media retweetedTweet  \\\n",
      "372  [{'previewUrl': 'https://pbs.twimg.com/media/E...            NaN   \n",
      "464  [{'previewUrl': 'https://pbs.twimg.com/media/E...            NaN   \n",
      "526  [{'previewUrl': 'https://pbs.twimg.com/media/E...            NaN   \n",
      "443                                               None            NaN   \n",
      "516  [{'previewUrl': 'https://pbs.twimg.com/media/E...            NaN   \n",
      "509  [{'previewUrl': 'https://pbs.twimg.com/media/E...            NaN   \n",
      "274  [{'previewUrl': 'https://pbs.twimg.com/media/E...            NaN   \n",
      "352  [{'previewUrl': 'https://pbs.twimg.com/media/E...            NaN   \n",
      "378  [{'previewUrl': 'https://pbs.twimg.com/media/E...            NaN   \n",
      "519  [{'previewUrl': 'https://pbs.twimg.com/media/E...            NaN   \n",
      "\n",
      "     quotedTweet mentionedUsers  \n",
      "372         None           None  \n",
      "464         None           None  \n",
      "526         None           None  \n",
      "443         None           None  \n",
      "516         None           None  \n",
      "509         None           None  \n",
      "274         None           None  \n",
      "352         None           None  \n",
      "378         None           None  \n",
      "519         None           None  \n",
      "\n",
      "[10 rows x 21 columns]\n"
     ]
    }
   ],
   "source": [
    "# Ejemplo de uso de la función find_most_retweeted\n",
    "most_retweeted = find_most_retweeted(tweets_df)\n",
    "print(most_retweeted)"
   ]
  },
  {
   "cell_type": "code",
   "execution_count": 53,
   "metadata": {},
   "outputs": [],
   "source": [
    "# Función: Los top 10 usuarios en función a la cantidad de tweets que emitieron.\n",
    "def find_top_users(df):\n",
    "  top_users = df['user'].mode()\n",
    "  return top_users.head(10)"
   ]
  },
  {
   "cell_type": "code",
   "execution_count": 54,
   "metadata": {},
   "outputs": [
    {
     "name": "stdout",
     "output_type": "stream",
     "text": [
      "0    {'username': 'rumsomal', 'displayname': '🍊rama...\n",
      "Name: user, dtype: object\n"
     ]
    }
   ],
   "source": [
    "# Ejemplo de uso de la función find_top_users\n",
    "top_users = find_top_users(tweets_df)\n",
    "print(top_users)"
   ]
  },
  {
   "cell_type": "code",
   "execution_count": 55,
   "metadata": {},
   "outputs": [],
   "source": [
    "# Función: Los top 10 días donde hay más tweets.\n",
    "def find_top_days(df):\n",
    "  dates = pd.to_datetime(df[\"date\"])\n",
    "  dates = dates.dt.date\n",
    "  top_days = dates.value_counts()\n",
    "  return top_days.head(10)"
   ]
  },
  {
   "cell_type": "code",
   "execution_count": 56,
   "metadata": {},
   "outputs": [
    {
     "name": "stdout",
     "output_type": "stream",
     "text": [
      "2021-03-30    576\n",
      "2021-03-29    424\n",
      "Name: date, dtype: int64\n"
     ]
    }
   ],
   "source": [
    "# Ejemplo de uso de la función find_top_days\n",
    "top_days = find_top_days(tweets_df)\n",
    "print(top_days)"
   ]
  },
  {
   "cell_type": "code",
   "execution_count": 57,
   "metadata": {},
   "outputs": [],
   "source": [
    "# Función: Top 10 hashtags más usados.\n",
    "def find_top_hashtags(df):\n",
    "  content =df['content']\n",
    "  hashtags = pd.Series([itm[0] for itm in content.str.findall('#[^\\s]*') if len(itm)>0])\n",
    "  return hashtags.value_counts().head(10)\n",
    "  "
   ]
  },
  {
   "cell_type": "code",
   "execution_count": 58,
   "metadata": {},
   "outputs": [
    {
     "name": "stdout",
     "output_type": "stream",
     "text": [
      "#FarmersProtest                397\n",
      "#StopHateAgainstFarmers        314\n",
      "#Desh_Ka_Gaddar_RSS             75\n",
      "#सरकार_MSP_केंद्र_खोलो          38\n",
      "#होली_के_रंग_किसानों_के_संग     22\n",
      "#GoBackModi                     18\n",
      "#देश_विरोधी_संघटन_RSS           11\n",
      "#FarmersProtest.                 6\n",
      "#AkshayVeerNahiChamchaHai        6\n",
      "#Farmersprotest                  6\n",
      "dtype: int64\n"
     ]
    }
   ],
   "source": [
    "# Ejemplo de uso de la función find_top_hashtags\n",
    "top_hashtags = find_top_hashtags(tweets_df)\n",
    "print(top_hashtags)"
   ]
  }
 ],
 "metadata": {
  "interpreter": {
   "hash": "aee8b7b246df8f9039afb4144a1f6fd8d2ca17a180786b69acc140d282b71a49"
  },
  "kernelspec": {
   "display_name": "Python 3.9.10 64-bit",
   "language": "python",
   "name": "python3"
  },
  "language_info": {
   "codemirror_mode": {
    "name": "ipython",
    "version": 3
   },
   "file_extension": ".py",
   "mimetype": "text/x-python",
   "name": "python",
   "nbconvert_exporter": "python",
   "pygments_lexer": "ipython3",
   "version": "3.9.10"
  },
  "orig_nbformat": 4
 },
 "nbformat": 4,
 "nbformat_minor": 2
}
